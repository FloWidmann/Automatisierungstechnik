{
 "cells": [
  {
   "cell_type": "code",
   "execution_count": 1,
   "id": "23ff02a6",
   "metadata": {},
   "outputs": [],
   "source": [
    "import pandas as pd\n",
    "import numpy as np\n",
    "from sklearn.model_selection import train_test_split\n",
    "from sklearn.ensemble import RandomForestClassifier\n",
    "from sklearn.metrics import f1_score, classification_report, confusion_matrix"
   ]
  },
  {
   "cell_type": "code",
   "execution_count": 2,
   "id": "1ebbfdb5",
   "metadata": {},
   "outputs": [],
   "source": [
    "# CSV-Datei laden\n",
    "df = pd.read_csv(\"data_sorted_vibration.csv\")  # ← Datei ggf. anpassen\n",
    "\n",
    "# Zeitreihe als Liste interpretieren\n",
    "df[\"oscillation\"] = df[\"oscilation\"].apply(lambda x: np.array(eval(x), dtype=float))\n",
    "\n",
    "# Statistische Merkmale extrahieren\n",
    "df[\"osc_mean\"] = df[\"oscillation\"].apply(np.mean)\n",
    "df[\"osc_std\"] = df[\"oscillation\"].apply(np.std)\n",
    "df[\"osc_max\"] = df[\"oscillation\"].apply(np.max)\n",
    "df[\"osc_min\"] = df[\"oscillation\"].apply(np.min)\n"
   ]
  },
  {
   "cell_type": "code",
   "execution_count": 3,
   "id": "5c3e1134",
   "metadata": {},
   "outputs": [],
   "source": [
    "# Features & Ziel\n",
    "X = df[[\"osc_mean\", \"osc_std\", \"osc_max\", \"osc_min\"]]\n",
    "y = df[\"is cracked\"]\n",
    "\n",
    "# Trainings-/Testdaten splitten\n",
    "X_train, X_test, y_train, y_test = train_test_split(X, y, test_size=0.2, random_state=42)\n",
    "\n",
    "# Modell trainieren\n",
    "model = RandomForestClassifier(random_state=42)\n",
    "model.fit(X_train, y_train)\n",
    "\n",
    "# Vorhersage machen\n",
    "y_pred = model.predict(X_test)\n"
   ]
  },
  {
   "cell_type": "code",
   "execution_count": 4,
   "id": "6002a8ea",
   "metadata": {},
   "outputs": [
    {
     "name": "stdout",
     "output_type": "stream",
     "text": [
      " Klassifikations-Report:\n",
      "              precision    recall  f1-score   support\n",
      "\n",
      "           0       0.93      1.00      0.97        14\n",
      "           1       0.00      0.00      0.00         1\n",
      "\n",
      "    accuracy                           0.93        15\n",
      "   macro avg       0.47      0.50      0.48        15\n",
      "weighted avg       0.87      0.93      0.90        15\n",
      "\n",
      " Konfusionsmatrix:\n",
      "[[14  0]\n",
      " [ 1  0]]\n",
      "\n",
      " F1-Score (Testdaten): 0.0000\n"
     ]
    },
    {
     "name": "stderr",
     "output_type": "stream",
     "text": [
      "c:\\Users\\User\\Desktop\\Automatisierungstechnik\\.venv\\Lib\\site-packages\\sklearn\\metrics\\_classification.py:1706: UndefinedMetricWarning: Precision is ill-defined and being set to 0.0 in labels with no predicted samples. Use `zero_division` parameter to control this behavior.\n",
      "  _warn_prf(average, modifier, f\"{metric.capitalize()} is\", result.shape[0])\n",
      "c:\\Users\\User\\Desktop\\Automatisierungstechnik\\.venv\\Lib\\site-packages\\sklearn\\metrics\\_classification.py:1706: UndefinedMetricWarning: Precision is ill-defined and being set to 0.0 in labels with no predicted samples. Use `zero_division` parameter to control this behavior.\n",
      "  _warn_prf(average, modifier, f\"{metric.capitalize()} is\", result.shape[0])\n",
      "c:\\Users\\User\\Desktop\\Automatisierungstechnik\\.venv\\Lib\\site-packages\\sklearn\\metrics\\_classification.py:1706: UndefinedMetricWarning: Precision is ill-defined and being set to 0.0 in labels with no predicted samples. Use `zero_division` parameter to control this behavior.\n",
      "  _warn_prf(average, modifier, f\"{metric.capitalize()} is\", result.shape[0])\n"
     ]
    }
   ],
   "source": [
    "# Ergebnisse ausgeben\n",
    "print(\" Klassifikations-Report:\")\n",
    "print(classification_report(y_test, y_pred))\n",
    "\n",
    "print(\" Konfusionsmatrix:\")\n",
    "print(confusion_matrix(y_test, y_pred))\n",
    "\n",
    "f1 = f1_score(y_test, y_pred)\n",
    "print(f\"\\n F1-Score (Testdaten): {f1:.4f}\")\n"
   ]
  },
  {
   "cell_type": "markdown",
   "id": "c8d49365",
   "metadata": {},
   "source": [
    "## Analyse des Klassifikationsergebnisses\n",
    "\n",
    "Die Drop-Vibration-Daten wurden zur Klassifikation defekter Flaschen genutzt. Die Zielvariable `is cracked` zeigt an, ob eine Flasche beschädigt war (1) oder intakt (0). Als Merkmale wurden u. a. der Mittelwert, die Standardabweichung, das Maximum und Minimum der Schwingungssignale verwendet.\n",
    "\n",
    "### Testergebnis\n",
    "\n",
    "Die Klassifikation wurde auf einem kleinen Testdatensatz durchgeführt. Die resultierende Confusion Matrix lautete:\n",
    "\n",
    "| Ist / Vorhergesagt | 0 (intakt) | 1 (defekt) |\n",
    "|--------------------|------------|------------|\n",
    "| 0 (intakt)         | 14         | 0          |\n",
    "| 1 (defekt)         | 1          | 0          |\n",
    "\n",
    "Das Modell hat keine defekte Flasche korrekt erkannt. Die resultierenden Metriken:\n",
    "\n",
    "- Precision (Klasse 1): 0.00  \n",
    "- Recall (Klasse 1): 0.00  \n",
    "- F1-Score (Klasse 1): 0.00  \n",
    "- Gesamtgenauigkeit: 93 %\n",
    "\n",
    "### Interpretation\n",
    "\n",
    "Da im Testdatensatz nur **eine einzige defekte Flasche** enthalten war, konnte das Modell diese nicht sinnvoll als Klasse lernen. Die Datenlage ist stark unausgewogen – und solche extremen Klassenverhältnisse führen häufig zu Modellen, die nur die Mehrheitsklasse vorhersagen.\n",
    "\n",
    "Für aussagekräftige Ergebnisse wird empfohlen:\n",
    "\n",
    "- Zusätzliche Daten mit defekten Flaschen zu sammeln,\n",
    "- oder bei Trainingsmodellen eine Gewichtung der Klassen (`class_weight='balanced'`) zu verwenden,\n",
    "- optional: künstliches Oversampling der Minderheitsklasse (z. B. SMOTE).\n",
    "\n",
    "Trotzdem zeigt das Modell bereits ein stabiles Verhalten gegenüber der intakten Klasse.\n"
   ]
  }
 ],
 "metadata": {
  "kernelspec": {
   "display_name": ".venv",
   "language": "python",
   "name": "python3"
  },
  "language_info": {
   "codemirror_mode": {
    "name": "ipython",
    "version": 3
   },
   "file_extension": ".py",
   "mimetype": "text/x-python",
   "name": "python",
   "nbconvert_exporter": "python",
   "pygments_lexer": "ipython3",
   "version": "3.12.7"
  }
 },
 "nbformat": 4,
 "nbformat_minor": 5
}
