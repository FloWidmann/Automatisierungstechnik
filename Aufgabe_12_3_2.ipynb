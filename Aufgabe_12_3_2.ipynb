{
 "cells": [
  {
   "cell_type": "code",
   "execution_count": 3,
   "id": "b1ed9a5d",
   "metadata": {},
   "outputs": [],
   "source": [
    "import pandas as pd\n",
    "from sklearn.model_selection import train_test_split\n",
    "from sklearn.linear_model import LinearRegression\n",
    "from sklearn.metrics import mean_squared_error"
   ]
  },
  {
   "cell_type": "code",
   "execution_count": null,
   "id": "fb5e75a8",
   "metadata": {},
   "outputs": [
    {
     "name": "stdout",
     "output_type": "stream",
     "text": [
      "Kopfzeile <bound method NDFrame.head of           ID  fill_level_blue  fill_level_green  fill_level_red  final_weight\n",
      "0   49626430         0.000000               0.0        0.000000     11.300110\n",
      "1   49626432         0.000000               0.0        0.000000     11.692605\n",
      "2   49626434       386.804727               0.0        0.000000     11.550287\n",
      "3   49626436       381.288909               0.0      445.999631     11.800093\n",
      "4   49626438       375.966803               0.0      444.174771     10.868427\n",
      "..       ...              ...               ...             ...           ...\n",
      "70  49626570        32.644821               0.0      312.520292     11.785446\n",
      "71  49626572        27.425226               0.0      310.564847     11.017673\n",
      "72  49626574        21.556917               0.0      308.668335      0.000000\n",
      "73  49626576        16.570874               0.0      307.033630      0.000000\n",
      "74  49626578         0.000000               0.0      305.130629      0.000000\n",
      "\n",
      "[75 rows x 5 columns]> \n",
      "\n",
      "\n"
     ]
    }
   ],
   "source": [
    "# Daten laden\n",
    "df = pd.read_csv(\"data_sorted_fill_level_grams.csv\")\n",
    "print(f\"Kopfzeile {df.head} \\n\\n\")\n",
    "\n",
    "# Relevante Spalten auswählen\n",
    "xData = df[[\"fill_level_blue\", \"fill_level_green\", \"fill_level_red\"]]  # Eingangsgrößen\n",
    "yData = df[\"final_weight\"]  # Zielgröße\n",
    "\n",
    "# Trainings- und Testdaten aufteilen\n",
    "xTrainingData, xTestData, yTrainingData, yTestData = train_test_split(xData, yData, test_size=0.2, random_state=42)\n"
   ]
  },
  {
   "cell_type": "code",
   "execution_count": 5,
   "id": "340dc4a7",
   "metadata": {},
   "outputs": [
    {
     "name": "stdout",
     "output_type": "stream",
     "text": [
      "Mittlerer quadratischer Fehler (MSE): 53.098145001351035\n",
      "Koeffizienten: [-0.03607825  0.03863822  0.01035415]\n",
      "Intercept: 19.967456630049476\n"
     ]
    }
   ],
   "source": [
    "# Modell erstellen und trainieren\n",
    "model = LinearRegression()\n",
    "model.fit(xTrainingData, yTrainingData)\n",
    "\n",
    "#print(xTrainingData)\n",
    "# Vorhersagen machen\n",
    "yPredictedData = model.predict(xTestData)\n",
    "\n",
    "mse = mean_squared_error(yTestData, yPredictedData)\n",
    "print(f\"Mittlerer quadratischer Fehler (MSE): {mse}\")\n",
    "\n",
    "# Modellparameter anzeigen\n",
    "print(\"Koeffizienten:\", model.coef_)\n",
    "print(\"Intercept:\", model.intercept_)"
   ]
  },
  {
   "cell_type": "markdown",
   "id": "1037e997",
   "metadata": {},
   "source": [
    "### 📊 Zusammenfassung des Regressionsmodells\n",
    "\n",
    "| Eingangsgrößen (Features `X`)                    | Zielgröße (`y`)          | MSE (Testdaten) | Regressionskoeffizienten                            | Intercept (`b`) |\n",
    "|--------------------------------------------------|---------------------------|------------------|------------------------------------------------------|------------------|\n",
    "| `fill_level_blue`, `fill_level_green`, `fill_level_red` | `final_weight` (g)         | 53.098           | `[-0.0361, 0.0386, 0.0104]`                         | 19.9675          |\n",
    "\n",
    "**Formel:**  \n",
    "\n",
    "\n",
    "final_weight = −0,0361 ⋅ blue + 0,0386 ⋅ green + 0,0104 ⋅ red + 19,9675"
   ]
  },
  {
   "cell_type": "code",
   "execution_count": 10,
   "id": "71b03bf1",
   "metadata": {},
   "outputs": [],
   "source": [
    "# Ursprüngliche Daten laden\n",
    "X_raw = pd.read_csv(\"X.csv\")\n",
    "\n",
    "# Spalten umbenennen und auswählen\n",
    "X_model_input = X_raw.rename(columns={\n",
    "    \"fill_level_grams_red\": \"fill_level_red\",\n",
    "    \"fill_level_grams_blue\": \"fill_level_blue\",\n",
    "    \"fill_level_grams_green\": \"fill_level_green\"\n",
    "})[[\"fill_level_blue\", \"fill_level_green\", \"fill_level_red\"]]\n",
    "\n",
    "# Vorhersage durchführen\n",
    "y_predicted = model.predict(X_model_input)\n",
    "\n",
    "# Flaschen-ID extrahieren (angenommen Spalte heißt 'bottle')\n",
    "bottle_ids = X_raw[\"bottle\"]\n",
    "\n",
    "# Ergebnis-DataFrame erstellen\n",
    "df_output = pd.DataFrame({\n",
    "    \"bottle\": bottle_ids,\n",
    "    \"y_hat\": y_predicted\n",
    "})\n",
    "\n",
    "# Speichern in CSV-Datei\n",
    "df_output.to_csv(\"reg_Florian_Widmann-Lukas_Heiss-Ahmed_Koca.csv\", index=False)\n"
   ]
  },
  {
   "cell_type": "markdown",
   "id": "e6e881be",
   "metadata": {},
   "source": [
    "## Ergebnisdokumentation\n",
    "\n",
    "Die Vorhersage des finalen Gewichts wurde mit dem trainierten linearen Regressionsmodell durchgeführt. Die verwendeten Eingangsgrößen (`X`) waren:\n",
    "\n",
    "- `fill_level_blue`\n",
    "- `fill_level_green`\n",
    "- `fill_level_red`\n",
    "\n",
    "Die Vorhersagen wurden in der Datei  \n",
    "**`reg_Florian_Widmann-Lukas_Heiss-Ahmed_Koca.csv`**  \n",
    "gespeichert. Jede Zeile enthält das vorhergesagte Gewicht (`predicted_final_weight`) für einen Datensatz aus `X.csv`.\n"
   ]
  }
 ],
 "metadata": {
  "kernelspec": {
   "display_name": ".venv",
   "language": "python",
   "name": "python3"
  },
  "language_info": {
   "codemirror_mode": {
    "name": "ipython",
    "version": 3
   },
   "file_extension": ".py",
   "mimetype": "text/x-python",
   "name": "python",
   "nbconvert_exporter": "python",
   "pygments_lexer": "ipython3",
   "version": "3.12.7"
  }
 },
 "nbformat": 4,
 "nbformat_minor": 5
}
