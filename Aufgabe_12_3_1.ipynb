{
 "cells": [
  {
   "cell_type": "code",
   "execution_count": null,
   "id": "fcf5b5ec",
   "metadata": {},
   "outputs": [],
   "source": [
    "import pandas as pd\n",
    "import json"
   ]
  },
  {
   "cell_type": "code",
   "execution_count": null,
   "id": "530e59e1",
   "metadata": {},
   "outputs": [],
   "source": [
    "# CSV-Datei laden\n",
    "df = pd.read_csv(\"mqtt_data.csv\", header=None)\n",
    "\n",
    "# Filtern nach dispenser-Werten\n",
    "filteredDispenserBlue = df[df[0].str.contains(\"dispenser_blue\", na=False)]\n",
    "filteredDispenserGreen = df[df[0].str.contains(\"dispenser_green\", na=False)]\n",
    "filteredDispenserRed = df[df[0].str.contains(\"dispenser_red\", na=False)]\n",
    "filteredWeight = df[df[0].str.contains(\"final_weight\", na=False)]\n",
    "\n",
    "# JSON-Daten extrahieren\n",
    "fillLevelBlue = filteredDispenserBlue[1].apply(lambda x: json.loads(x).get(\"fill_level_grams\"))\n",
    "fillLevelGreen = filteredDispenserGreen[1].apply(lambda x: json.loads(x).get(\"fill_level_grams\"))\n",
    "fillLevelRed = filteredDispenserRed[1].apply(lambda x: json.loads(x).get(\"fill_level_grams\"))\n",
    "finalWeight = filteredWeight[1].apply(lambda x: json.loads(x).get(\"final_weight\"))\n",
    "\n",
    "# Richtige Zuordnung der BottleIDs\n",
    "bottleBlue = filteredDispenserBlue[1].apply(lambda x: json.loads(x).get(\"bottle\"))\n",
    "bottleGreen = filteredDispenserGreen[1].apply(lambda x: json.loads(x).get(\"bottle\"))\n",
    "bottleRed = filteredDispenserRed[1].apply(lambda x: json.loads(x).get(\"bottle\"))\n",
    "bottleWeight = filteredWeight[1].apply(lambda x: json.loads(x).get(\"bottle\"))\n"
   ]
  },
  {
   "cell_type": "code",
   "execution_count": null,
   "id": "d0ef5e22",
   "metadata": {},
   "outputs": [],
   "source": [
    "# Dictionaries direkt in Variablen speichern\n",
    "dict_blue = dict(zip(bottleBlue.dropna(), fillLevelBlue.dropna()))\n",
    "dict_green = dict(zip(bottleGreen.dropna(), fillLevelGreen.dropna()))\n",
    "dict_red = dict(zip(bottleRed.dropna(), fillLevelRed.dropna()))\n",
    "dict_weight = dict(zip(bottleWeight.dropna(), finalWeight.dropna()))\n",
    "\n",
    "# Alle einzigartigen Bottle-IDs sammeln (jetzt korrekt!)\n",
    "all_bottle_ids = sorted(set(dict_blue.keys()).union(set(dict_green.keys()), set(dict_red.keys()), set(dict_weight.keys())))\n"
   ]
  },
  {
   "cell_type": "code",
   "execution_count": null,
   "id": "8c0f8fe9",
   "metadata": {},
   "outputs": [],
   "source": [
    "# Daten in ein DataFrame packen\n",
    "df_sorted = pd.DataFrame({\n",
    "    \"ID\": all_bottle_ids,\n",
    "    \"fill_level_blue\": [dict_blue.get(bottle_id, 0.0) for bottle_id in all_bottle_ids],\n",
    "    \"fill_level_green\": [dict_green.get(bottle_id, 0.0) for bottle_id in all_bottle_ids],\n",
    "    \"fill_level_red\": [dict_red.get(bottle_id, 0.0) for bottle_id in all_bottle_ids],\n",
    "    \"final_weight\": [dict_weight.get(bottle_id, 0.0) for bottle_id in all_bottle_ids]\n",
    "})\n",
    "\n",
    "# CSV-Datei speichern\n",
    "df_sorted.to_csv(\"data_sorted_fill_level_grams.csv\", index=False)\n",
    "\n",
    "print(\"CSV-Datei 'data_sorted_fill_level_grams.csv' wurde erfolgreich erstellt!\")\n"
   ]
  }
 ],
 "metadata": {
  "language_info": {
   "name": "python"
  }
 },
 "nbformat": 4,
 "nbformat_minor": 5
}
