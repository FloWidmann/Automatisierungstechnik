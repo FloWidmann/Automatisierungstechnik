{
 "cells": [
  {
   "cell_type": "code",
   "execution_count": null,
   "id": "d4c8f399",
   "metadata": {},
   "outputs": [],
   "source": [
    "import paho.mqtt.client as mqtt\n",
    "import csv"
   ]
  },
  {
   "cell_type": "code",
   "execution_count": null,
   "id": "a6dee35f",
   "metadata": {},
   "outputs": [],
   "source": [
    "timeInterval = 1 # in seconds\n",
    "maxTime = 15 #15 minutes\n",
    "maxTimeStamps = maxTime * 60 * timeInterval\n",
    "currentTimeStamp = 0  "
   ]
  },
  {
   "cell_type": "code",
   "execution_count": null,
   "id": "89344719",
   "metadata": {},
   "outputs": [],
   "source": [
    "# MQTT-Broker und Verbindungseinstellungen\n",
    "broker = \"158.180.44.197\"\n",
    "port = 1883\n",
    "topic = \"iot1/teaching_factory/#\""
   ]
  },
  {
   "cell_type": "code",
   "execution_count": null,
   "id": "8c8813cf",
   "metadata": {},
   "outputs": [],
   "source": [
    "\n",
    "# CSV-Datei öffnen (falls nicht existiert, wird sie erstellt) und Header schreiben\n",
    "csv_file = \"mqtt_data.csv\"\n",
    "with open(csv_file, \"w\", newline=\"\", encoding=\"utf-8\") as file:\n",
    "    writer = csv.writer(file)\n",
    "    writer.writerow([\"Topic\", \"Message\"])  # Kopfzeile setzen\n",
    "\n",
    "# Callback-Funktion für empfangene Nachrichten\n",
    "def on_message(client, userdata, message):\n",
    "    msg = message.payload.decode()\n",
    "    topic = message.topic\n",
    "\n",
    "    print(\"message received:\")\n",
    "    print(f\"Topic: {topic}, Message: {msg}\")\n",
    "    print(\"\\n\")\n",
    "\n",
    "    # Daten in CSV-Datei speichern\n",
    "    with open(csv_file, \"a\", newline=\"\", encoding=\"utf-8\") as file:\n",
    "        writer = csv.writer(file)\n",
    "        writer.writerow([topic, msg])  # Daten anhängen\n"
   ]
  },
  {
   "cell_type": "code",
   "execution_count": null,
   "id": "46a77b4f",
   "metadata": {},
   "outputs": [],
   "source": [
    "# MQTT-Client einrichten\n",
    "mqttc = mqtt.Client(mqtt.CallbackAPIVersion.VERSION2)\n",
    "mqttc.username_pw_set(\"bobm\", \"letmein\")\n",
    "mqttc.on_message = on_message\n",
    "mqttc.connect(broker, port)\n",
    "mqttc.subscribe(topic, qos=0)\n",
    "\n",
    "# MQTT-Schleife starten (Daten werden kontinuierlich empfangen und gespeichert)\n",
    "while currentTimeStamp <= maxTimeStamps:\n",
    "    mqttc.loop(timeInterval)\n",
    "    currentTimeStamp = currentTimeStamp + timeInterval\n",
    "\n",
    "print(\"Einlesen beendet nach: \" + currentTimeStamp + \" Schritte\")"
   ]
  }
 ],
 "metadata": {
  "kernelspec": {
   "display_name": ".venv",
   "language": "python",
   "name": "python3"
  },
  "language_info": {
   "name": "python",
   "version": "3.12.7"
  }
 },
 "nbformat": 4,
 "nbformat_minor": 5
}
