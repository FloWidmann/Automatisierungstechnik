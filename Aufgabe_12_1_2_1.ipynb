{
 "cells": [
  {
   "cell_type": "code",
   "execution_count": 1,
   "id": "d4c8f399",
   "metadata": {},
   "outputs": [],
   "source": [
    "import paho.mqtt.client as mqtt\n",
    "import csv"
   ]
  },
  {
   "cell_type": "code",
   "execution_count": 2,
   "id": "a6dee35f",
   "metadata": {},
   "outputs": [],
   "source": [
    "timeInterval = 1 # in seconds\n",
    "maxTime = 15 #15 minutes\n",
    "maxTimeStamps = maxTime * 60 * timeInterval\n",
    "currentTimeStamp = 0  "
   ]
  },
  {
   "cell_type": "code",
   "execution_count": 3,
   "id": "89344719",
   "metadata": {},
   "outputs": [],
   "source": [
    "# MQTT-Broker und Verbindungseinstellungen\n",
    "broker = \"158.180.44.197\"\n",
    "port = 1883\n",
    "topic = \"iot1/teaching_factory/#\""
   ]
  },
  {
   "cell_type": "code",
   "execution_count": 4,
   "id": "8c8813cf",
   "metadata": {},
   "outputs": [],
   "source": [
    "\n",
    "# CSV-Datei öffnen (falls nicht existiert, wird sie erstellt) und Header schreiben\n",
    "csv_file = \"mqtt_data.csv\"\n",
    "with open(csv_file, \"w\", newline=\"\", encoding=\"utf-8\") as file:\n",
    "    writer = csv.writer(file)\n",
    "    writer.writerow([\"Topic\", \"Message\"])  # Kopfzeile setzen\n",
    "\n",
    "# Callback-Funktion für empfangene Nachrichten\n",
    "def on_message(client, userdata, message):\n",
    "    msg = message.payload.decode()\n",
    "    topic = message.topic\n",
    "\n",
    "    print(\"message received:\")\n",
    "    print(f\"Topic: {topic}, Message: {msg}\")\n",
    "    print(\"\\n\")\n",
    "\n",
    "    # Daten in CSV-Datei speichern\n",
    "    with open(csv_file, \"a\", newline=\"\", encoding=\"utf-8\") as file:\n",
    "        writer = csv.writer(file)\n",
    "        writer.writerow([topic, msg])  # Daten anhängen\n"
   ]
  },
  {
   "cell_type": "code",
   "execution_count": 5,
   "id": "46a77b4f",
   "metadata": {},
   "outputs": [
    {
     "name": "stdout",
     "output_type": "stream",
     "text": [
      "message received:\n",
      "Topic: iot1/teaching_factory/recipe, Message: {\"id\": \"6\", \"creation_date\" : \"2025-06-23\", \"color_levels_grams\" : {\"red\": 21, \"blue\": 15, \"green\": 14}}\n",
      "\n",
      "\n"
     ]
    },
    {
     "ename": "KeyboardInterrupt",
     "evalue": "",
     "output_type": "error",
     "traceback": [
      "\u001b[31m---------------------------------------------------------------------------\u001b[39m",
      "\u001b[31mKeyboardInterrupt\u001b[39m                         Traceback (most recent call last)",
      "\u001b[36mCell\u001b[39m\u001b[36m \u001b[39m\u001b[32mIn[5]\u001b[39m\u001b[32m, line 10\u001b[39m\n\u001b[32m      8\u001b[39m \u001b[38;5;66;03m# MQTT-Schleife starten (Daten werden kontinuierlich empfangen und gespeichert)\u001b[39;00m\n\u001b[32m      9\u001b[39m \u001b[38;5;28;01mwhile\u001b[39;00m currentTimeStamp <= maxTimeStamps:\n\u001b[32m---> \u001b[39m\u001b[32m10\u001b[39m     \u001b[43mmqttc\u001b[49m\u001b[43m.\u001b[49m\u001b[43mloop\u001b[49m\u001b[43m(\u001b[49m\u001b[43mtimeInterval\u001b[49m\u001b[43m)\u001b[49m\n\u001b[32m     11\u001b[39m     currentTimeStamp = currentTimeStamp + timeInterval\n\u001b[32m     13\u001b[39m \u001b[38;5;28mprint\u001b[39m(\u001b[33m\"\u001b[39m\u001b[33mEinlesen beendet nach: \u001b[39m\u001b[33m\"\u001b[39m + currentTimeStamp + \u001b[33m\"\u001b[39m\u001b[33m Schritte\u001b[39m\u001b[33m\"\u001b[39m)\n",
      "\u001b[36mFile \u001b[39m\u001b[32mc:\\Users\\User\\Desktop\\Automatisierungstechnik\\.venv\\Lib\\site-packages\\paho\\mqtt\\client.py:1635\u001b[39m, in \u001b[36mClient.loop\u001b[39m\u001b[34m(self, timeout)\u001b[39m\n\u001b[32m   1632\u001b[39m     \u001b[38;5;28mself\u001b[39m._reset_sockets(sockpair_only=\u001b[38;5;28;01mTrue\u001b[39;00m)\n\u001b[32m   1633\u001b[39m     \u001b[38;5;28mself\u001b[39m._sockpairR, \u001b[38;5;28mself\u001b[39m._sockpairW = _socketpair_compat()\n\u001b[32m-> \u001b[39m\u001b[32m1635\u001b[39m \u001b[38;5;28;01mreturn\u001b[39;00m \u001b[38;5;28;43mself\u001b[39;49m\u001b[43m.\u001b[49m\u001b[43m_loop\u001b[49m\u001b[43m(\u001b[49m\u001b[43mtimeout\u001b[49m\u001b[43m)\u001b[49m\n",
      "\u001b[36mFile \u001b[39m\u001b[32mc:\\Users\\User\\Desktop\\Automatisierungstechnik\\.venv\\Lib\\site-packages\\paho\\mqtt\\client.py:1663\u001b[39m, in \u001b[36mClient._loop\u001b[39m\u001b[34m(self, timeout)\u001b[39m\n\u001b[32m   1660\u001b[39m     rlist = [\u001b[38;5;28mself\u001b[39m._sock, \u001b[38;5;28mself\u001b[39m._sockpairR]\n\u001b[32m   1662\u001b[39m \u001b[38;5;28;01mtry\u001b[39;00m:\n\u001b[32m-> \u001b[39m\u001b[32m1663\u001b[39m     socklist = \u001b[43mselect\u001b[49m\u001b[43m.\u001b[49m\u001b[43mselect\u001b[49m\u001b[43m(\u001b[49m\u001b[43mrlist\u001b[49m\u001b[43m,\u001b[49m\u001b[43m \u001b[49m\u001b[43mwlist\u001b[49m\u001b[43m,\u001b[49m\u001b[43m \u001b[49m\u001b[43m[\u001b[49m\u001b[43m]\u001b[49m\u001b[43m,\u001b[49m\u001b[43m \u001b[49m\u001b[43mtimeout\u001b[49m\u001b[43m)\u001b[49m\n\u001b[32m   1664\u001b[39m \u001b[38;5;28;01mexcept\u001b[39;00m \u001b[38;5;167;01mTypeError\u001b[39;00m:\n\u001b[32m   1665\u001b[39m     \u001b[38;5;66;03m# Socket isn't correct type, in likelihood connection is lost\u001b[39;00m\n\u001b[32m   1666\u001b[39m     \u001b[38;5;66;03m# ... or we called disconnect(). In that case the socket will\u001b[39;00m\n\u001b[32m   (...)\u001b[39m\u001b[32m   1669\u001b[39m     \u001b[38;5;66;03m# rc != MQTT_ERR_SUCCESS and we don't want state to change from\u001b[39;00m\n\u001b[32m   1670\u001b[39m     \u001b[38;5;66;03m# mqtt_cs_disconnecting.\u001b[39;00m\n\u001b[32m   1671\u001b[39m     \u001b[38;5;28;01mif\u001b[39;00m \u001b[38;5;28mself\u001b[39m._state \u001b[38;5;129;01mnot\u001b[39;00m \u001b[38;5;129;01min\u001b[39;00m (_ConnectionState.MQTT_CS_DISCONNECTING, _ConnectionState.MQTT_CS_DISCONNECTED):\n",
      "\u001b[31mKeyboardInterrupt\u001b[39m: "
     ]
    }
   ],
   "source": [
    "# MQTT-Client einrichten\n",
    "mqttc = mqtt.Client(mqtt.CallbackAPIVersion.VERSION2)\n",
    "mqttc.username_pw_set(\"bobm\", \"letmein\")\n",
    "mqttc.on_message = on_message\n",
    "mqttc.connect(broker, port)\n",
    "mqttc.subscribe(topic, qos=0)\n",
    "\n",
    "# MQTT-Schleife starten (Daten werden kontinuierlich empfangen und gespeichert)\n",
    "while currentTimeStamp <= maxTimeStamps:\n",
    "    mqttc.loop(timeInterval)\n",
    "    currentTimeStamp = currentTimeStamp + timeInterval\n",
    "\n",
    "print(\"Einlesen beendet nach: \" + currentTimeStamp + \" Schritte\")"
   ]
  }
 ],
 "metadata": {
  "kernelspec": {
   "display_name": ".venv",
   "language": "python",
   "name": "python3"
  },
  "language_info": {
   "codemirror_mode": {
    "name": "ipython",
    "version": 3
   },
   "file_extension": ".py",
   "mimetype": "text/x-python",
   "name": "python",
   "nbconvert_exporter": "python",
   "pygments_lexer": "ipython3",
   "version": "3.12.7"
  }
 },
 "nbformat": 4,
 "nbformat_minor": 5
}
