{
 "cells": [
  {
   "cell_type": "code",
   "execution_count": null,
   "id": "5876d203",
   "metadata": {},
   "outputs": [],
   "source": [
    "import pandas as pd\n",
    "import json"
   ]
  },
  {
   "cell_type": "code",
   "execution_count": null,
   "id": "69e2b45b",
   "metadata": {},
   "outputs": [],
   "source": [
    "# CSV-Datei laden\n",
    "df = pd.read_csv(\"mqtt_data.csv\", header=None)\n",
    "\n",
    "# Filtern nach dispenser-Werten\n",
    "filteredDropOscillation = df[df[0].str.contains(\"drop_oscillation\", na=False)]\n",
    "filteredIsBottleCracked = df[df[0].str.contains(\"ground_truth\", na=False)]\n",
    "\n",
    "# JSON-Daten extrahieren\n",
    "dropOscillations = filteredDropOscillation[1].apply(lambda x: json.loads(x).get(\"drop_oscillation\"))\n",
    "isBottleCracked = filteredIsBottleCracked[1].apply(lambda x: json.loads(x).get(\"is_cracked\"))\n",
    "\n",
    "# Richtige Zuordnung der BottleIDs\n",
    "bottleOscillation = filteredDropOscillation[1].apply(lambda x: json.loads(x).get(\"bottle\"))\n",
    "crackedBottles = filteredIsBottleCracked[1].apply(lambda x: json.loads(x).get(\"bottle\"))\n",
    "\n",
    "# Dictionaries direkt in Variablen speichern\n",
    "dictOscillation = dict(zip(bottleOscillation.dropna(), dropOscillations.dropna()))\n",
    "dictCrackedBottles = dict(zip(crackedBottles.dropna(), isBottleCracked.dropna()))"
   ]
  },
  {
   "cell_type": "code",
   "execution_count": null,
   "id": "11b77220",
   "metadata": {},
   "outputs": [],
   "source": [
    "# Alle einzigartigen Bottle-IDs sammeln\n",
    "all_bottle_ids = sorted(set(dictCrackedBottles.keys()).union(set(dictOscillation.keys())))\n",
    "\n",
    "# Daten in ein DataFrame packen\n",
    "df_sorted = pd.DataFrame({\n",
    "    \"ID \": all_bottle_ids,\n",
    "    \"is cracked \": [dictCrackedBottles.get(bottle_id, 0.0) for bottle_id in all_bottle_ids],\n",
    "    \"oscilattion \": [dictOscillation.get(bottle_id, 0.0) for bottle_id in all_bottle_ids]\n",
    "})\n",
    "\n",
    "# CSV-Datei speichern\n",
    "df_sorted.to_csv(\"data_sorted_vibration.csv\", index=False)\n",
    "\n",
    "print(\"CSV-Datei 'data_sorted_vibration.csv' wurde erfolgreich erstellt!\")"
   ]
  }
 ],
 "metadata": {
  "language_info": {
   "name": "python"
  }
 },
 "nbformat": 4,
 "nbformat_minor": 5
}
