{
 "cells": [
  {
   "cell_type": "code",
   "execution_count": null,
   "id": "24abb734",
   "metadata": {},
   "outputs": [],
   "source": [
    "\n",
    "import matplotlib.pyplot as plt\n",
    "import matplotlib.animation as animation\n",
    "import csv\n",
    "import json"
   ]
  },
  {
   "cell_type": "code",
   "execution_count": null,
   "id": "e2dc6816",
   "metadata": {},
   "outputs": [],
   "source": [
    "requested_data = \"drop_oscillation\"\n",
    "requested_data_full_path = \"iot1/teaching_factory/\" + requested_data"
   ]
  },
  {
   "cell_type": "code",
   "execution_count": null,
   "id": "7c395cc0",
   "metadata": {},
   "outputs": [],
   "source": [
    "bottle_data = []\n",
    "\n",
    "with open(\"mqtt_data.csv\", \"r\", encoding=\"utf-8\") as file:\n",
    "    reader = csv.reader(file)\n",
    "    next(reader)\n",
    "\n",
    "    for row in reader:\n",
    "        topic = row[0]\n",
    "        message = row[1]\n",
    "\n",
    "        if topic == requested_data_full_path:\n",
    "            try:\n",
    "                data = json.loads(message)\n",
    "                bottle_id = data[\"bottle\"]\n",
    "                shown_values = list(map(float, data[requested_data]))\n",
    "                \n",
    "                bottle_data.append((bottle_id, shown_values))\n",
    "\n",
    "            except json.JSONDecodeError:\n",
    "                print(f\"Fehler beim Verarbeiten der Zeile: {row}\")\n"
   ]
  },
  {
   "cell_type": "markdown",
   "id": "4f6f28ad",
   "metadata": {},
   "source": [
    "### Plotten der Daten\n",
    "\n",
    "Hier wird der Zeitverlauf der Oszillation geplottet. Alle zwei Sekunden wird die angezeigte Flasche geändert."
   ]
  },
  {
   "cell_type": "code",
   "execution_count": null,
   "id": "960cf73a",
   "metadata": {},
   "outputs": [],
   "source": [
    "fig, ax = plt.subplots()\n",
    "line, = ax.plot([], [], marker=\"o\", linestyle=\"-\", color=\"blue\")\n",
    "\n",
    "ax.set_xlabel(\"Messpunkt\")\n",
    "ax.grid()\n",
    "\n",
    "def update(frame):\n",
    "    if frame < len(bottle_data):\n",
    "        bottle_id, drop_values = bottle_data[frame]\n",
    "\n",
    "        line.set_xdata(range(len(drop_values)))\n",
    "        line.set_ydata(drop_values)\n",
    "        ax.set_xlim(0, len(drop_values))\n",
    "        ax.set_ylim(min(drop_values) - 1, max(drop_values) + 1)\n",
    "        ax.set_title(f\"{requested_data} - Bottle ID: {bottle_id}\")\n",
    "        ax.legend([f\"Bottle ID: {bottle_id}\"])\n",
    "\n",
    "    return line,\n",
    "\n",
    "ani = animation.FuncAnimation(fig, update, frames=len(bottle_data), interval=2000, repeat=False)\n",
    "\n",
    "plt.show()\n"
   ]
  }
 ],
 "metadata": {
  "kernelspec": {
   "display_name": ".venv",
   "language": "python",
   "name": "python3"
  },
  "language_info": {
   "name": "python",
   "version": "3.12.7"
  }
 },
 "nbformat": 4,
 "nbformat_minor": 5
}
